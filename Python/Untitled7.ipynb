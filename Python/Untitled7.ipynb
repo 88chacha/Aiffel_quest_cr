{
  "nbformat": 4,
  "nbformat_minor": 0,
  "metadata": {
    "colab": {
      "provenance": [],
      "authorship_tag": "ABX9TyOiQ/iYxL2x9F09w8jFBzLg",
      "include_colab_link": true
    },
    "kernelspec": {
      "name": "python3",
      "display_name": "Python 3"
    },
    "language_info": {
      "name": "python"
    }
  },
  "cells": [
    {
      "cell_type": "markdown",
      "metadata": {
        "id": "view-in-github",
        "colab_type": "text"
      },
      "source": [
        "<a href=\"https://colab.research.google.com/github/88chacha/Aiffel_quest_cr/blob/main/Python/Untitled7.ipynb\" target=\"_parent\"><img src=\"https://colab.research.google.com/assets/colab-badge.svg\" alt=\"Open In Colab\"/></a>"
      ]
    },
    {
      "cell_type": "code",
      "execution_count": 1,
      "metadata": {
        "colab": {
          "base_uri": "https://localhost:8080/"
        },
        "id": "31nHQGs9XHWK",
        "outputId": "ed1b15f5-d53a-466a-a678-76a78a1b522e"
      },
      "outputs": [
        {
          "output_type": "stream",
          "name": "stdout",
          "text": [
            "hello world!\n"
          ]
        }
      ],
      "source": [
        "print(\"hello world!\")"
      ]
    },
    {
      "cell_type": "markdown",
      "source": [
        "### 제목"
      ],
      "metadata": {
        "id": "r7gsn2YyXcEu"
      }
    },
    {
      "cell_type": "code",
      "source": [],
      "metadata": {
        "id": "2FVIOIZpXWMF"
      },
      "execution_count": null,
      "outputs": []
    }
  ]
}